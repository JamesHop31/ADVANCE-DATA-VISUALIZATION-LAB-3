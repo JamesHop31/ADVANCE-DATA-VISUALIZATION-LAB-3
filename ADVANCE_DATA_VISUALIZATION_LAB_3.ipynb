{
  "nbformat": 4,
  "nbformat_minor": 0,
  "metadata": {
    "colab": {
      "provenance": [],
      "authorship_tag": "ABX9TyPJkPSM7h8vNjyhUWyLbbCy",
      "include_colab_link": true
    },
    "kernelspec": {
      "name": "python3",
      "display_name": "Python 3"
    },
    "language_info": {
      "name": "python"
    }
  },
  "cells": [
    {
      "cell_type": "markdown",
      "metadata": {
        "id": "view-in-github",
        "colab_type": "text"
      },
      "source": [
        "<a href=\"https://colab.research.google.com/github/JamesHop31/ADVANCE-DATA-VISUALIZATION-LAB-3/blob/main/ADVANCE_DATA_VISUALIZATION_LAB_3.ipynb\" target=\"_parent\"><img src=\"https://colab.research.google.com/assets/colab-badge.svg\" alt=\"Open In Colab\"/></a>"
      ]
    },
    {
      "cell_type": "code",
      "execution_count": 1,
      "metadata": {
        "colab": {
          "base_uri": "https://localhost:8080/"
        },
        "id": "t6W1Qzc9xvMt",
        "outputId": "dc733668-fe3a-4f1a-abbc-bc31630ee941"
      },
      "outputs": [
        {
          "output_type": "stream",
          "name": "stdout",
          "text": [
            "2\n"
          ]
        }
      ],
      "source": [
        "Add = 1 + 1\n",
        "print(Add)"
      ]
    },
    {
      "cell_type": "code",
      "source": [
        "Subtract = 2 - 1\n",
        "print(Subtract)"
      ],
      "metadata": {
        "colab": {
          "base_uri": "https://localhost:8080/"
        },
        "id": "hLpS-McXyBJJ",
        "outputId": "b518e930-7078-4352-b58b-9e794862f1ef"
      },
      "execution_count": 2,
      "outputs": [
        {
          "output_type": "stream",
          "name": "stdout",
          "text": [
            "1\n"
          ]
        }
      ]
    },
    {
      "cell_type": "code",
      "source": [
        "Divide = 129/2\n",
        "print(Divide)"
      ],
      "metadata": {
        "colab": {
          "base_uri": "https://localhost:8080/"
        },
        "id": "KHAiyg-6yPAd",
        "outputId": "ff8232a4-7e34-4fb2-b3a2-1126968c0a39"
      },
      "execution_count": 3,
      "outputs": [
        {
          "output_type": "stream",
          "name": "stdout",
          "text": [
            "64.5\n"
          ]
        }
      ]
    },
    {
      "cell_type": "code",
      "source": [
        "Exponent = 6**10\n",
        "print(Exponent)"
      ],
      "metadata": {
        "colab": {
          "base_uri": "https://localhost:8080/"
        },
        "id": "B5ODysGkyS5v",
        "outputId": "62f4a2d7-cded-4677-e8a7-9f55762a5364"
      },
      "execution_count": 4,
      "outputs": [
        {
          "output_type": "stream",
          "name": "stdout",
          "text": [
            "60466176\n"
          ]
        }
      ]
    },
    {
      "cell_type": "code",
      "source": [
        "Multiply = 6*4\n",
        "print(Multiply)"
      ],
      "metadata": {
        "colab": {
          "base_uri": "https://localhost:8080/"
        },
        "id": "9dcDRMXnydNi",
        "outputId": "ba2baa49-2342-4823-d869-62c0089533a6"
      },
      "execution_count": 5,
      "outputs": [
        {
          "output_type": "stream",
          "name": "stdout",
          "text": [
            "24\n"
          ]
        }
      ]
    },
    {
      "cell_type": "code",
      "source": [
        "# The modulo (%) operator returns the remainder of the division of the number to the left by the # number to the right\n",
        "Remainder = 20%3\n",
        "print(Remainder)"
      ],
      "metadata": {
        "colab": {
          "base_uri": "https://localhost:8080/"
        },
        "id": "IGir2q40ynzt",
        "outputId": "be6b33b7-ccbc-456a-8180-3eec70cb3787"
      },
      "execution_count": 6,
      "outputs": [
        {
          "output_type": "stream",
          "name": "stdout",
          "text": [
            "2\n"
          ]
        }
      ]
    },
    {
      "cell_type": "code",
      "source": [
        "a = 10\n",
        "b = 10\n",
        "if a == b:\n",
        " print(\"a equals b\")"
      ],
      "metadata": {
        "colab": {
          "base_uri": "https://localhost:8080/"
        },
        "id": "E7NfhUrVzK-3",
        "outputId": "6058a61b-6ff8-4dd2-d63a-36b4b0566b1f"
      },
      "execution_count": 7,
      "outputs": [
        {
          "output_type": "stream",
          "name": "stdout",
          "text": [
            "a equals b\n"
          ]
        }
      ]
    },
    {
      "cell_type": "code",
      "source": [
        "a = 10\n",
        "b = 8\n",
        "if a < b:\n",
        " print(\"a is less than b\")"
      ],
      "metadata": {
        "id": "IycvjHxUzNDB"
      },
      "execution_count": 11,
      "outputs": []
    },
    {
      "cell_type": "code",
      "source": [
        "a = 12\n",
        "b = 12\n",
        "if a > b:\n",
        " print(\"a is greater than b\")\n",
        "else:\n",
        " print(\"a is not greater than b\")"
      ],
      "metadata": {
        "colab": {
          "base_uri": "https://localhost:8080/"
        },
        "id": "l2H6PhuJzjXM",
        "outputId": "f52a1c61-fef8-4077-803f-4bc50e7eae34"
      },
      "execution_count": 12,
      "outputs": [
        {
          "output_type": "stream",
          "name": "stdout",
          "text": [
            "a is not greater than b\n"
          ]
        }
      ]
    },
    {
      "cell_type": "code",
      "source": [
        "a = 13\n",
        "b = 12\n",
        "if a > b:\n",
        " print(\"a is greater than b\")\n",
        "elif a == b:\n",
        " print(\"a is equal to b\")\n",
        "else:\n",
        " print(\"a is less than b\")"
      ],
      "metadata": {
        "colab": {
          "base_uri": "https://localhost:8080/"
        },
        "id": "HB0WaeC7zx1U",
        "outputId": "c2d71088-2a59-470f-d31f-3365dc5d2fe8"
      },
      "execution_count": 13,
      "outputs": [
        {
          "output_type": "stream",
          "name": "stdout",
          "text": [
            "a is greater than b\n"
          ]
        }
      ]
    },
    {
      "cell_type": "code",
      "source": [
        "a = 10\n",
        "b = 10\n",
        "if a == b:\n",
        " print(\"a does not equal b\")"
      ],
      "metadata": {
        "colab": {
          "base_uri": "https://localhost:8080/"
        },
        "id": "hccv6dAi0AIH",
        "outputId": "032184d8-bf62-46ab-cbc5-65beeceabb8a"
      },
      "execution_count": 16,
      "outputs": [
        {
          "output_type": "stream",
          "name": "stdout",
          "text": [
            "a does not equal b\n"
          ]
        }
      ]
    },
    {
      "cell_type": "code",
      "source": [
        "(1 + 1) == (True + True)"
      ],
      "metadata": {
        "colab": {
          "base_uri": "https://localhost:8080/"
        },
        "id": "OnHrWC8t0W_6",
        "outputId": "015d5511-f01c-46ea-b33b-e734fdd3ec18"
      },
      "execution_count": 17,
      "outputs": [
        {
          "output_type": "execute_result",
          "data": {
            "text/plain": [
              "True"
            ]
          },
          "metadata": {},
          "execution_count": 17
        }
      ]
    },
    {
      "cell_type": "code",
      "source": [
        "# Notice you have to indent after you start a if statement.\n",
        "num=3;\n",
        "if num==3:\n",
        " print(num)"
      ],
      "metadata": {
        "colab": {
          "base_uri": "https://localhost:8080/"
        },
        "id": "zyRe_6s30kBu",
        "outputId": "9a80cdcd-8400-40f2-cd41-3ad8472fda18"
      },
      "execution_count": 18,
      "outputs": [
        {
          "output_type": "stream",
          "name": "stdout",
          "text": [
            "3\n"
          ]
        }
      ]
    },
    {
      "cell_type": "code",
      "source": [
        "# Nothing is output because num > 10 is FALSE\n",
        "num = 3\n",
        "if num > 10:\n",
        "    print(num)"
      ],
      "metadata": {
        "id": "CLDV_KNJ0_rs"
      },
      "execution_count": 21,
      "outputs": []
    },
    {
      "cell_type": "code",
      "source": [
        "num = 3\n",
        "if num % 3 == 0:\n",
        " print(\"Fizz\")"
      ],
      "metadata": {
        "colab": {
          "base_uri": "https://localhost:8080/"
        },
        "id": "zBUfFpGE1naG",
        "outputId": "0777f890-c442-47a4-a184-429d1b8196a8"
      },
      "execution_count": 22,
      "outputs": [
        {
          "output_type": "stream",
          "name": "stdout",
          "text": [
            "Fizz\n"
          ]
        }
      ]
    },
    {
      "cell_type": "code",
      "source": [
        "num = 10\n",
        "if num % 5 == 0:\n",
        "    print(\"Buzz\")"
      ],
      "metadata": {
        "colab": {
          "base_uri": "https://localhost:8080/"
        },
        "id": "-YMH12IZ1saK",
        "outputId": "8ac62020-c781-40e0-a135-02271d2a491c"
      },
      "execution_count": 24,
      "outputs": [
        {
          "output_type": "stream",
          "name": "stdout",
          "text": [
            "Buzz\n"
          ]
        }
      ]
    },
    {
      "cell_type": "code",
      "source": [
        "num = 4\n",
        "print(num > 0 and num < 15) "
      ],
      "metadata": {
        "colab": {
          "base_uri": "https://localhost:8080/"
        },
        "id": "PjDLyU3l13l8",
        "outputId": "4c130829-fb7e-455a-ed7b-e9be5b08d66d"
      },
      "execution_count": 25,
      "outputs": [
        {
          "output_type": "stream",
          "name": "stdout",
          "text": [
            "True\n"
          ]
        }
      ]
    },
    {
      "cell_type": "code",
      "source": [
        "# both the conditions are true, so the num will be printed out\n",
        "if num > 0 and num < 15:\n",
        "    print(num)"
      ],
      "metadata": {
        "colab": {
          "base_uri": "https://localhost:8080/"
        },
        "id": "CkUsknrb2Gvp",
        "outputId": "09f5f25b-80d7-4b6f-bf6e-5bb5bc7c06c8"
      },
      "execution_count": 27,
      "outputs": [
        {
          "output_type": "stream",
          "name": "stdout",
          "text": [
            "4\n"
          ]
        }
      ]
    },
    {
      "cell_type": "code",
      "source": [
        "# num > 0 is True, num > 15 is False\n",
        "# Since the first condition is True, it is True\n",
        "num = 4\n",
        "num > 0 or num > 15"
      ],
      "metadata": {
        "colab": {
          "base_uri": "https://localhost:8080/"
        },
        "id": "C5WlZgRz2Izr",
        "outputId": "3850090e-67f1-4df6-8c2f-f8603b74e126"
      },
      "execution_count": 28,
      "outputs": [
        {
          "output_type": "execute_result",
          "data": {
            "text/plain": [
              "True"
            ]
          },
          "metadata": {},
          "execution_count": 28
        }
      ]
    },
    {
      "cell_type": "code",
      "source": [
        "num = 4 \n",
        "print(num > 0 and num < 15)"
      ],
      "metadata": {
        "colab": {
          "base_uri": "https://localhost:8080/"
        },
        "id": "y-KevHuh2N9B",
        "outputId": "e8a9a9c4-dc72-4dd1-cf65-b727eabd284e"
      },
      "execution_count": 31,
      "outputs": [
        {
          "output_type": "stream",
          "name": "stdout",
          "text": [
            "True\n"
          ]
        }
      ]
    }
  ]
}